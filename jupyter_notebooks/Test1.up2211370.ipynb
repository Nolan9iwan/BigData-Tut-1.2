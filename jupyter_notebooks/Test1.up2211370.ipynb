{
 "cells": [
  {
   "cell_type": "code",
   "execution_count": null,
   "metadata": {},
   "outputs": [
    {
     "name": "stdout",
     "output_type": "stream",
     "text": [
      "11 is a prime number.\n"
     ]
    }
   ],
   "source": [
    "#Exercise 1\n",
    "# Function to check if the number is prime\n",
    "def is_prime(number):\n",
    "    if number <= 1:\n",
    "        return False\n",
    "    for i in range(2, int(number ** 0.5) + 1):  # Check divisibility up to the square root of the number\n",
    "        if number % i == 0:\n",
    "            return False\n",
    "    return True\n",
    "\n",
    "# Ask user for input\n",
    "user_input = int(input(\"Enter a number: \"))\n",
    "\n",
    "# Check if the number is prime and print the result\n",
    "if is_prime(user_input):\n",
    "    print(f\"{user_input} is a prime number.\")\n",
    "else:\n",
    "    print(f\"{user_input} is not a prime number.\")"
   ]
  },
  {
   "cell_type": "code",
   "execution_count": null,
   "metadata": {},
   "outputs": [
    {
     "name": "stdout",
     "output_type": "stream",
     "text": [
      "Fibonacci sequence: [0, 1, 1, 2, 3, 5, 8, 13, 21, 34, 55, 89, 144]\n"
     ]
    }
   ],
   "source": [
    "#Exercise 2\n",
    "# Fibonacci sequence generator in Python\n",
    "def fibonacci_sequence(n):\n",
    "    sequence = []\n",
    "    a, b = 0, 1\n",
    "    for _ in range(n):\n",
    "        sequence.append(a)\n",
    "        a, b = b, a + b\n",
    "    return sequence\n",
    "\n",
    "# Ask user for input\n",
    "try:\n",
    "    num_terms = int(input(\"Enter the number of Fibonacci numbers to display: \"))\n",
    "    if num_terms <= 0:\n",
    "        print(\"Please enter a positive integer.\")\n",
    "    else:\n",
    "        result = fibonacci_sequence(num_terms)\n",
    "        print(\"Fibonacci sequence:\", result)\n",
    "except ValueError:\n",
    "    print(\"Invalid input. Please enter a valid number.\")\n"
   ]
  },
  {
   "cell_type": "code",
   "execution_count": null,
   "metadata": {},
   "outputs": [
    {
     "name": "stdout",
     "output_type": "stream",
     "text": [
      "* * * * * \n",
      "* * * * \n",
      "* * * \n",
      "* * \n",
      "* \n"
     ]
    }
   ],
   "source": [
    "#Exercise 3\n",
    "# Decreasing triangle pattern in Python\n",
    "\n",
    "def decreasing_triangle_pattern():\n",
    "    rows = 5\n",
    "    for i in range(rows, 0, -1):\n",
    "        print('* ' * i)\n",
    "\n",
    "# Call the function to print the pattern\n",
    "decreasing_triangle_pattern()"
   ]
  },
  {
   "cell_type": "code",
   "execution_count": null,
   "metadata": {},
   "outputs": [
    {
     "name": "stdout",
     "output_type": "stream",
     "text": [
      "Reversed string: 'nawi olleh'\n"
     ]
    }
   ],
   "source": [
    "#Exercise 4\n",
    "# Function to reverse a string in Python\n",
    "\n",
    "def reverse_string():\n",
    "    user_input = input(\"Enter a string to reverse: \")\n",
    "    reversed_string = user_input[::-1]\n",
    "    print(\"Reversed string:\", reversed_string)\n",
    "\n",
    "# Call the function to reverse a string\n",
    "reverse_string()\n"
   ]
  },
  {
   "cell_type": "code",
   "execution_count": 11,
   "metadata": {},
   "outputs": [
    {
     "name": "stdout",
     "output_type": "stream",
     "text": [
      "Min value is: 1\n",
      "Max value is: 30\n"
     ]
    }
   ],
   "source": [
    "#Exercise 5\n",
    "def find_min_max(numbers):\n",
    "    # Return both min and max values\n",
    "    return min(numbers), max(numbers)\n",
    "\n",
    "# Example usage:\n",
    "numbers = [11, 30, 1, 5, 20]\n",
    "min_val, max_val = find_min_max(numbers)\n",
    "\n",
    "# Print the results with additional string literals\n",
    "print(f\"Min value is: {min_val}\")\n",
    "print(f\"Max value is: {max_val}\")"
   ]
  },
  {
   "cell_type": "code",
   "execution_count": 14,
   "metadata": {},
   "outputs": [
    {
     "name": "stdout",
     "output_type": "stream",
     "text": [
      "Welcome to the Guessing Game!\n",
      "I have chosen a secret number between 1 and 10. Can you guess it?\n",
      "Too low! Try again.\n",
      "Too low! Try again.\n",
      "Congratulations! You guessed the correct number.\n"
     ]
    }
   ],
   "source": [
    "#Exercise 6 \n",
    "import random\n",
    "\n",
    "# Step 1: Choose a secret number between 1 and 10\n",
    "secret_number = random.randint(1, 10)\n",
    "\n",
    "# Step 2: Start the game\n",
    "print(\"Welcome to the Guessing Game!\")\n",
    "print(\"I have chosen a secret number between 1 and 10. Can you guess it?\")\n",
    "\n",
    "# Initialize the guess to None to enter the loop\n",
    "guess = None\n",
    "\n",
    "# Step 3: Use a while loop to keep asking for guesses\n",
    "while guess != secret_number:\n",
    "    # Step 4: Get user input and convert it to an integer\n",
    "    guess = int(input(\"Enter your guess: \"))\n",
    "    \n",
    "    # Step 5: Compare the guess with the secret number\n",
    "    if guess < secret_number:\n",
    "        print(\"Too low! Try again.\")\n",
    "    elif guess > secret_number:\n",
    "        print(\"Too high! Try again.\")\n",
    "    else:\n",
    "        print(\"Congratulations! You guessed the correct number.\")"
   ]
  },
  {
   "cell_type": "code",
   "execution_count": 16,
   "metadata": {},
   "outputs": [
    {
     "name": "stdout",
     "output_type": "stream",
     "text": [
      "Access Granted!\n"
     ]
    }
   ],
   "source": [
    "#Exercise 7\n",
    "# Set the correct password\n",
    "correct_password = \"BigData2025\"\n",
    "\n",
    "# Start an infinite loop\n",
    "while True:\n",
    "    # Prompt the user to enter a password\n",
    "    entered_password = input(\"Please enter your password: \")\n",
    "    \n",
    "    # Check if the entered password is correct\n",
    "    if entered_password == correct_password:\n",
    "        print(\"Access Granted!\")\n",
    "        break  # Exit the loop if the password is correct\n",
    "    else:\n",
    "        print(\"Incorrect password. Try again.\")"
   ]
  },
  {
   "cell_type": "code",
   "execution_count": 18,
   "metadata": {},
   "outputs": [
    {
     "name": "stdout",
     "output_type": "stream",
     "text": [
      "The result of the series is: 6417.710927747493\n"
     ]
    }
   ],
   "source": [
    "#Exercise 8\n",
    "import math\n",
    "\n",
    "def solve_series(x, N):\n",
    "    result = 0\n",
    "    for i in range(1, N + 1):\n",
    "        result += (x * (5 ** (i + 1))) / (i + math.factorial(i))\n",
    "    return result\n",
    "\n",
    "# Get user input for x and N\n",
    "x = float(input(\"Enter the value of x: \"))\n",
    "N = int(input(\"Enter the value of N: \"))\n",
    "\n",
    "# Call the function to solve the series\n",
    "result = solve_series(x, N)\n",
    "\n",
    "# Print the result\n",
    "print(f\"The result of the series is: {result}\")"
   ]
  },
  {
   "cell_type": "code",
   "execution_count": null,
   "metadata": {},
   "outputs": [
    {
     "name": "stdout",
     "output_type": "stream",
     "text": [
      "Minimum temperature: 18°C\n",
      "Maximum temperature: 30°C\n",
      "Average temperature: 23.13°C\n",
      "Temperatures in Fahrenheit: [71.6 75.2 66.2 69.8 73.4 77.  78.8 80.6 75.2 73.4 68.  71.6 69.8 66.2\n",
      " 64.4 71.6 73.4 75.2 78.8 82.4 86.  80.6 77.  78.8 75.2 71.6 69.8 68.\n",
      " 66.2 73.4]\n",
      "Days with temperatures above 25°C: [26 27 26 28 30 27 26]\n",
      "Number of days with temperatures below 20°C: 4\n",
      "Sorted temperatures: [18 19 19 19 20 20 21 21 21 22 22 22 22 23 23 23 23 24 24 24 24 25 25 26\n",
      " 26 26 27 27 28 30]\n",
      "5x6 2D array representing weeks (5 weeks of 6 days each):\n",
      "[[22 24 19 21 23 25]\n",
      " [26 27 24 23 20 22]\n",
      " [21 19 18 22 23 24]\n",
      " [26 28 30 27 25 26]\n",
      " [24 22 21 20 19 23]]\n"
     ]
    }
   ],
   "source": [
    "#Exercise 10 \n",
    "import numpy as np\n",
    "\n",
    "# Temperature data in Celsius\n",
    "temperatures_celsius = np.array([22, 24, 19, 21, 23, 25, 26, 27, 24, 23, 20, 22, 21, 19, 18, 22, 23, 24, 26,\n",
    "                                 28, 30, 27, 25, 26, 24, 22, 21, 20, 19, 23])\n",
    "\n",
    "# 1) Create a NumPy array\n",
    "temp_array = temperatures_celsius\n",
    "\n",
    "# 2) Find the minimum, maximum, and average temperature\n",
    "min_temp = np.min(temp_array)\n",
    "max_temp = np.max(temp_array)\n",
    "average_temp = np.mean(temp_array)\n",
    "\n",
    "print(f\"Minimum temperature: {min_temp}°C\")\n",
    "print(f\"Maximum temperature: {max_temp}°C\")\n",
    "print(f\"Average temperature: {average_temp:.2f}°C\")\n",
    "\n",
    "# 3) Convert the temperatures from Celsius to Fahrenheit and store it in a new array\n",
    "temperatures_fahrenheit = (temp_array * 9/5) + 32\n",
    "\n",
    "print(\"Temperatures in Fahrenheit:\", temperatures_fahrenheit)\n",
    "\n",
    "# 4) Find all days where the temperature was above 25°C\n",
    "above_25_celsius = temp_array[temp_array > 25]\n",
    "\n",
    "print(\"Days with temperatures above 25°C:\", above_25_celsius)\n",
    "\n",
    "# 5) Count how many days had temperatures below 20°C\n",
    "below_20_count = np.sum(temp_array < 20)\n",
    "\n",
    "print(f\"Number of days with temperatures below 20°C: {below_20_count}\")\n",
    "\n",
    "# 6) Sort the temperature data in ascending order\n",
    "sorted_temps = np.sort(temp_array)\n",
    "\n",
    "print(\"Sorted temperatures:\", sorted_temps)\n",
    "\n",
    "# 7) Reshape the 1D array into a 5x6 2D array representing weeks (5 weeks of 6 days each)\n",
    "reshaped_array = temp_array.reshape(5, 6)\n",
    "\n",
    "print(\"5x6 2D array representing weeks (5 weeks of 6 days each):\")\n",
    "print(reshaped_array)\n"
   ]
  }
 ],
 "metadata": {
  "kernelspec": {
   "display_name": "Python 3",
   "language": "python",
   "name": "python3"
  },
  "language_info": {
   "codemirror_mode": {
    "name": "ipython",
    "version": 3
   },
   "file_extension": ".py",
   "mimetype": "text/x-python",
   "name": "python",
   "nbconvert_exporter": "python",
   "pygments_lexer": "ipython3",
   "version": "3.12.1"
  }
 },
 "nbformat": 4,
 "nbformat_minor": 2
}
